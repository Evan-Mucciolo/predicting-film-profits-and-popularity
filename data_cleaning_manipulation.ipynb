{
 "cells": [
  {
   "cell_type": "code",
   "execution_count": 1,
   "metadata": {},
   "outputs": [],
   "source": [
    "# dependencies\n",
    "import pandas as pd"
   ]
  },
  {
   "cell_type": "code",
   "execution_count": 2,
   "metadata": {},
   "outputs": [],
   "source": [
    "# read in the movie data\n",
    "movies_df = pd.read_csv('TMDB_movie_dataset_v11.csv')"
   ]
  },
  {
   "cell_type": "code",
   "execution_count": 3,
   "metadata": {},
   "outputs": [
    {
     "data": {
      "text/plain": [
       "id                           0\n",
       "title                       12\n",
       "vote_average                 0\n",
       "vote_count                   0\n",
       "status                       0\n",
       "release_date            124410\n",
       "revenue                      0\n",
       "runtime                      0\n",
       "adult                        0\n",
       "backdrop_path           733953\n",
       "budget                       0\n",
       "homepage                909459\n",
       "imdb_id                 443508\n",
       "original_language            0\n",
       "original_title              12\n",
       "overview                187105\n",
       "popularity                   0\n",
       "poster_path             287867\n",
       "tagline                 873836\n",
       "genres                  380460\n",
       "production_companies    538107\n",
       "production_countries    419694\n",
       "spoken_languages        408688\n",
       "keywords                726746\n",
       "dtype: int64"
      ]
     },
     "execution_count": 3,
     "metadata": {},
     "output_type": "execute_result"
    }
   ],
   "source": [
    "# check and see which columns we need to clean\n",
    "movies_df.isnull().sum()"
   ]
  },
  {
   "cell_type": "code",
   "execution_count": 4,
   "metadata": {},
   "outputs": [],
   "source": [
    "# drop na's\n",
    "movies_df2 = movies_df.dropna(subset=['genres','production_companies','production_countries','spoken_languages'])"
   ]
  },
  {
   "cell_type": "code",
   "execution_count": 5,
   "metadata": {},
   "outputs": [],
   "source": [
    "# drop columns that we know won't be in the model\n",
    "movies_df2 = movies_df2.drop(columns = ['title','id','status','backdrop_path','homepage','imdb_id','original_title','overview','poster_path','tagline'])"
   ]
  },
  {
   "cell_type": "code",
   "execution_count": 6,
   "metadata": {},
   "outputs": [],
   "source": [
    "# drop rows where revenue and budget are equal to zero\n",
    "movies_df2 = movies_df2[(movies_df2['revenue'] != 0) & (movies_df2['budget'] != 0)]"
   ]
  },
  {
   "cell_type": "code",
   "execution_count": 7,
   "metadata": {},
   "outputs": [],
   "source": [
    "# create a profit column\n",
    "movies_df2['profit'] = movies_df2['revenue'] - movies_df2['budget']"
   ]
  },
  {
   "cell_type": "code",
   "execution_count": 8,
   "metadata": {},
   "outputs": [],
   "source": [
    "# Create 'profitable' column\n",
    "movies_df2['profitable'] = (movies_df2['profit'] > 0).astype(int)"
   ]
  },
  {
   "cell_type": "code",
   "execution_count": 9,
   "metadata": {},
   "outputs": [],
   "source": [
    "# Convert 'Release Date' column to datetime\n",
    "movies_df2['release_date'] = pd.to_datetime(movies_df2['release_date'])"
   ]
  },
  {
   "cell_type": "code",
   "execution_count": 10,
   "metadata": {},
   "outputs": [],
   "source": [
    "# mark the release month of each film\n",
    "movies_df2['January'] = (movies_df2['release_date'].dt.month == 1).astype(int)\n",
    "movies_df2['February'] = (movies_df2['release_date'].dt.month == 2).astype(int)\n",
    "movies_df2['March'] = (movies_df2['release_date'].dt.month == 3).astype(int)\n",
    "movies_df2['April'] = (movies_df2['release_date'].dt.month == 4).astype(int)\n",
    "movies_df2['May'] = (movies_df2['release_date'].dt.month == 5).astype(int)\n",
    "movies_df2['June'] = (movies_df2['release_date'].dt.month == 6).astype(int)\n",
    "movies_df2['July'] = (movies_df2['release_date'].dt.month == 7).astype(int)\n",
    "movies_df2['August'] = (movies_df2['release_date'].dt.month == 8).astype(int)\n",
    "movies_df2['September'] = (movies_df2['release_date'].dt.month == 9).astype(int)\n",
    "movies_df2['October'] = (movies_df2['release_date'].dt.month == 10).astype(int)\n",
    "movies_df2['November'] = (movies_df2['release_date'].dt.month == 11).astype(int)\n",
    "movies_df2['December'] = (movies_df2['release_date'].dt.month == 12).astype(int)"
   ]
  },
  {
   "cell_type": "code",
   "execution_count": 11,
   "metadata": {},
   "outputs": [],
   "source": [
    "# mark the seasons\n",
    "movies_df2['Winter_release'] = ((movies_df2['January'] == 1) | (movies_df2['February'] == 1) | (movies_df2['December'] == 1)).astype(int)\n",
    "movies_df2['Spring_release'] = ((movies_df2['March'] == 1) | (movies_df2['April'] == 1) | (movies_df2['May'] == 1)).astype(int)\n",
    "movies_df2['Summer_release'] = ((movies_df2['June'] == 1) | (movies_df2['July'] == 1) | (movies_df2['August'] == 1)).astype(int)\n",
    "movies_df2['Autumn_release'] = ((movies_df2['September'] == 1) | (movies_df2['October'] == 1) | (movies_df2['November'] == 1)).astype(int)"
   ]
  },
  {
   "cell_type": "code",
   "execution_count": 12,
   "metadata": {},
   "outputs": [],
   "source": [
    "# mark genres\n",
    "movies_df2['Drama'] = (movies_df2['genres'].str.contains('Drama')).astype(int)\n",
    "movies_df2['Comedy'] = (movies_df2['genres'].str.contains('Comedy')).astype(int)\n",
    "movies_df2['Romance'] = (movies_df2['genres'].str.contains('Romance')).astype(int)\n",
    "movies_df2['Action'] = (movies_df2['genres'].str.contains('Action')).astype(int)\n",
    "movies_df2['Crime'] = (movies_df2['genres'].str.contains('Crime')).astype(int)\n",
    "movies_df2['Thriller'] = (movies_df2['genres'].str.contains('Thriller')).astype(int)\n",
    "movies_df2['Horror'] = (movies_df2['genres'].str.contains('Horror')).astype(int)\n",
    "movies_df2['Adventure'] = (movies_df2['genres'].str.contains('Adventure')).astype(int)\n",
    "movies_df2['Science Fiction'] = (movies_df2['genres'].str.contains('Science Fiction')).astype(int)"
   ]
  },
  {
   "cell_type": "code",
   "execution_count": 13,
   "metadata": {},
   "outputs": [],
   "source": [
    "# mark english vs not english\n",
    "movies_df2['In_English'] = (movies_df2['original_language'] == 'en').astype(int)"
   ]
  }
 ],
 "metadata": {
  "kernelspec": {
   "display_name": "dev",
   "language": "python",
   "name": "python3"
  },
  "language_info": {
   "codemirror_mode": {
    "name": "ipython",
    "version": 3
   },
   "file_extension": ".py",
   "mimetype": "text/x-python",
   "name": "python",
   "nbconvert_exporter": "python",
   "pygments_lexer": "ipython3",
   "version": "3.10.13"
  }
 },
 "nbformat": 4,
 "nbformat_minor": 2
}
